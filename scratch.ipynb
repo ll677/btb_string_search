{
 "cells": [
  {
   "cell_type": "code",
   "execution_count": 3,
   "metadata": {},
   "outputs": [],
   "source": [
    "import os\n",
    "import git\n",
    "import numpy as np\n",
    "import pandas as pd\n",
    "import re\n",
    "import datetime as dt\n",
    "import shutil\n",
    "from bitbucket.client import Client\n",
    "import getpass as gp"
   ]
  },
  {
   "cell_type": "code",
   "execution_count": 4,
   "metadata": {},
   "outputs": [
    {
     "name": "stdout",
     "output_type": "stream",
     "text": [
      "username········\n",
      "password········\n"
     ]
    }
   ],
   "source": [
    "user=gp.getpass(\"username\")\n",
    "pw=gp.getpass(\"password\")"
   ]
  },
  {
   "cell_type": "code",
   "execution_count": 12,
   "metadata": {},
   "outputs": [],
   "source": [
    "client = Client(user,pw,'aeaverification')"
   ]
  },
  {
   "cell_type": "code",
   "execution_count": 13,
   "metadata": {
    "collapsed": true
   },
   "outputs": [],
   "source": [
    "    pg = 1\n",
    "    d = [0]\n",
    "    repos = []\n",
    "    while len(d) > 0:\n",
    "        d = client.get_repositories(\n",
    "            params={'pagelen': 100, 'page': pg})['values']\n",
    "        repos = repos+d\n",
    "        pg += 1\n"
   ]
  },
  {
   "cell_type": "code",
   "execution_count": 14,
   "metadata": {
    "collapsed": true
   },
   "outputs": [],
   "source": [
    "repo=repos[0]"
   ]
  },
  {
   "cell_type": "code",
   "execution_count": 15,
   "metadata": {},
   "outputs": [
    {
     "data": {
      "text/plain": [
       "dict_keys(['scm', 'website', 'has_wiki', 'uuid', 'links', 'fork_policy', 'name', 'project', 'language', 'created_on', 'mainbranch', 'full_name', 'has_issues', 'owner', 'updated_on', 'size', 'type', 'slug', 'is_private', 'description'])"
      ]
     },
     "execution_count": 15,
     "metadata": {},
     "output_type": "execute_result"
    }
   ],
   "source": [
    "repo.keys()"
   ]
  },
  {
   "cell_type": "code",
   "execution_count": 29,
   "metadata": {},
   "outputs": [
    {
     "data": {
      "text/html": [
       "<div>\n",
       "<style>\n",
       "    .dataframe thead tr:only-child th {\n",
       "        text-align: right;\n",
       "    }\n",
       "\n",
       "    .dataframe thead th {\n",
       "        text-align: left;\n",
       "    }\n",
       "\n",
       "    .dataframe tbody tr th {\n",
       "        vertical-align: top;\n",
       "    }\n",
       "</style>\n",
       "<table border=\"1\" class=\"dataframe\">\n",
       "  <thead>\n",
       "    <tr style=\"text-align: right;\">\n",
       "      <th></th>\n",
       "      <th>URL</th>\n",
       "      <th>last_updated_time</th>\n",
       "      <th>checked_strings</th>\n",
       "    </tr>\n",
       "  </thead>\n",
       "  <tbody>\n",
       "    <tr>\n",
       "      <th>0</th>\n",
       "      <td>https://bitbucket.org/aeaverification/aej-appl...</td>\n",
       "      <td>2018-09-26T03:07:23.407649+00:00</td>\n",
       "      <td>rdrobust</td>\n",
       "    </tr>\n",
       "    <tr>\n",
       "      <th>1</th>\n",
       "      <td>https://bitbucket.org/aeaverification/aej-appl...</td>\n",
       "      <td>2018-09-12T21:29:57.968938+00:00</td>\n",
       "      <td>rdrobust</td>\n",
       "    </tr>\n",
       "    <tr>\n",
       "      <th>2</th>\n",
       "      <td>https://bitbucket.org/aeaverification/aej-appl...</td>\n",
       "      <td>2018-09-12T22:12:50.958261+00:00</td>\n",
       "      <td>rdrobust</td>\n",
       "    </tr>\n",
       "    <tr>\n",
       "      <th>3</th>\n",
       "      <td>https://bitbucket.org/aeaverification/aej-appl...</td>\n",
       "      <td>2018-09-12T22:14:55.564475+00:00</td>\n",
       "      <td>rdrobust</td>\n",
       "    </tr>\n",
       "    <tr>\n",
       "      <th>4</th>\n",
       "      <td>https://bitbucket.org/aeaverification/aej-appl...</td>\n",
       "      <td>2018-09-12T22:18:59.529765+00:00</td>\n",
       "      <td>rdrobust</td>\n",
       "    </tr>\n",
       "  </tbody>\n",
       "</table>\n",
       "</div>"
      ],
      "text/plain": [
       "                                                 URL  \\\n",
       "0  https://bitbucket.org/aeaverification/aej-appl...   \n",
       "1  https://bitbucket.org/aeaverification/aej-appl...   \n",
       "2  https://bitbucket.org/aeaverification/aej-appl...   \n",
       "3  https://bitbucket.org/aeaverification/aej-appl...   \n",
       "4  https://bitbucket.org/aeaverification/aej-appl...   \n",
       "\n",
       "                  last_updated_time checked_strings  \n",
       "0  2018-09-26T03:07:23.407649+00:00        rdrobust  \n",
       "1  2018-09-12T21:29:57.968938+00:00        rdrobust  \n",
       "2  2018-09-12T22:12:50.958261+00:00        rdrobust  \n",
       "3  2018-09-12T22:14:55.564475+00:00        rdrobust  \n",
       "4  2018-09-12T22:18:59.529765+00:00        rdrobust  "
      ]
     },
     "execution_count": 29,
     "metadata": {},
     "output_type": "execute_result"
    }
   ],
   "source": [
    "df=pd.read_csv('checked_URL.csv')\n",
    "\n",
    "df['checked_strings'][0].split()\n",
    "'a,b'.split(',')\n",
    "df.head()"
   ]
  },
  {
   "cell_type": "code",
   "execution_count": 15,
   "metadata": {},
   "outputs": [
    {
     "data": {
      "text/plain": [
       "array([False,  True])"
      ]
     },
     "execution_count": 15,
     "metadata": {},
     "output_type": "execute_result"
    }
   ],
   "source": [
    "N=np.float64('nan')\n",
    "np.isnan(np.array([1, N]))"
   ]
  },
  {
   "cell_type": "code",
   "execution_count": 10,
   "metadata": {},
   "outputs": [
    {
     "data": {
      "text/plain": [
       "670"
      ]
     },
     "execution_count": 10,
     "metadata": {},
     "output_type": "execute_result"
    }
   ],
   "source": [
    "import btbsrch_fxns as bf\n",
    "URLs=bf.getURLs(user,pw,'aeaverification',['rdrobust','reghdfe'])\n",
    "len(URLs.keys())"
   ]
  },
  {
   "cell_type": "code",
   "execution_count": 17,
   "metadata": {},
   "outputs": [
    {
     "data": {
      "text/plain": [
       "'2018-09-26T03:07:23.407649+00:00'"
      ]
     },
     "execution_count": 17,
     "metadata": {},
     "output_type": "execute_result"
    }
   ],
   "source": [
    "repo['updated_on']"
   ]
  },
  {
   "cell_type": "code",
   "execution_count": 25,
   "metadata": {},
   "outputs": [
    {
     "data": {
      "text/html": [
       "<div>\n",
       "<style>\n",
       "    .dataframe thead tr:only-child th {\n",
       "        text-align: right;\n",
       "    }\n",
       "\n",
       "    .dataframe thead th {\n",
       "        text-align: left;\n",
       "    }\n",
       "\n",
       "    .dataframe tbody tr th {\n",
       "        vertical-align: top;\n",
       "    }\n",
       "</style>\n",
       "<table border=\"1\" class=\"dataframe\">\n",
       "  <thead>\n",
       "    <tr style=\"text-align: right;\">\n",
       "      <th></th>\n",
       "      <th>DOI</th>\n",
       "      <th>rdrobust</th>\n",
       "      <th>reghdfe</th>\n",
       "    </tr>\n",
       "    <tr>\n",
       "      <th>URL</th>\n",
       "      <th></th>\n",
       "      <th></th>\n",
       "      <th></th>\n",
       "    </tr>\n",
       "  </thead>\n",
       "  <tbody>\n",
       "    <tr>\n",
       "      <th>a</th>\n",
       "      <td>1</td>\n",
       "      <td>NaN</td>\n",
       "      <td>NaN</td>\n",
       "    </tr>\n",
       "  </tbody>\n",
       "</table>\n",
       "</div>"
      ],
      "text/plain": [
       "    DOI rdrobust reghdfe\n",
       "URL                     \n",
       "a     1      NaN     NaN"
      ]
     },
     "execution_count": 25,
     "metadata": {},
     "output_type": "execute_result"
    }
   ],
   "source": [
    "test = pd.DataFrame(index=pd.core.indexes.base.Index([], name='URL'),columns=['DOI','rdrobust','reghdfe'])\n",
    "test.at['a','DOI']=1\n",
    "test"
   ]
  },
  {
   "cell_type": "code",
   "execution_count": 20,
   "metadata": {},
   "outputs": [
    {
     "data": {
      "text/plain": [
       "[1, 2]"
      ]
     },
     "execution_count": 20,
     "metadata": {},
     "output_type": "execute_result"
    }
   ],
   "source": [
    "[1]+[2]"
   ]
  },
  {
   "cell_type": "code",
   "execution_count": null,
   "metadata": {
    "collapsed": true
   },
   "outputs": [],
   "source": [
    "]+st"
   ]
  }
 ],
 "metadata": {
  "kernelspec": {
   "display_name": "Python 3",
   "language": "python",
   "name": "python3"
  },
  "language_info": {
   "codemirror_mode": {
    "name": "ipython",
    "version": 3
   },
   "file_extension": ".py",
   "mimetype": "text/x-python",
   "name": "python",
   "nbconvert_exporter": "python",
   "pygments_lexer": "ipython3",
   "version": "3.6.1"
  }
 },
 "nbformat": 4,
 "nbformat_minor": 2
}
